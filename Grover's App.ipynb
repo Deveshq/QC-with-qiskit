{
 "cells": [
  {
   "cell_type": "markdown",
   "id": "70bc7551-062d-4514-9668-612ce7e5ee73",
   "metadata": {},
   "source": [
    "## Problem\n",
    "\n",
    "Desiging a circuit that consider a vector of integer numbers as input, and returns a quantum state which is a superposition of the target solution.\n",
    "\n",
    "> Target solution: Indices of the inputs where two adjacent bits (of binary number corresponding to the integers) will always have different values."
   ]
  },
  {
   "cell_type": "markdown",
   "id": "ac71c978",
   "metadata": {},
   "source": [
    "## Solution\n",
    "\n",
    "Here I've used the Grovers algorithm, to find the state in the superposition of required indices. "
   ]
  },
  {
   "cell_type": "code",
   "execution_count": 59,
   "id": "55cd9db9",
   "metadata": {},
   "outputs": [],
   "source": [
    "# Importing some important libraries\n",
    "import numpy as np\n",
    "from numpy import math\n",
    "from qiskit import *\n",
    "from numpy import pi as pi\n",
    "from math import asin, sqrt\n",
    "import qiskit.quantum_info as qi\n",
    "from qiskit import QuantumCircuit, transpile, Aer, IBMQ, execute\n",
    "from qiskit.tools.jupyter import *\n",
    "from qiskit.visualization import plot_histogram, plot_bloch_multivector\n",
    "from numpy.random import seed"
   ]
  },
  {
   "cell_type": "code",
   "execution_count": 1,
   "id": "bd81c688-b1fb-491b-8de6-d41acf810eef",
   "metadata": {},
   "outputs": [],
   "source": [
    "import IPython\n",
    "from IPython.display import display,Latex,Markdown"
   ]
  },
  {
   "cell_type": "code",
   "execution_count": 2,
   "id": "fcf6a914-4c3f-4290-ac5f-0095e4860d50",
   "metadata": {
    "tags": []
   },
   "outputs": [],
   "source": [
    "# Defining a function which flip the sign of the marked state, in the superpositon of all the states.\n",
    "\n",
    "def orc(d):\n",
    "    op = np.identity(2**n)\n",
    "    for i in d:\n",
    "        op[i][i] = op[i][i]*(-1)\n",
    "        display(i)\n",
    "    return op"
   ]
  },
  {
   "cell_type": "code",
   "execution_count": 3,
   "id": "d43831d8-6cc5-4c34-93bf-0740040d6b64",
   "metadata": {},
   "outputs": [],
   "source": [
    "# Defining another function which flip all the states about the average.\n",
    "\n",
    "def dif():\n",
    "    op = np.identity(2**n)\n",
    "    for i in range(2**n):\n",
    "        if ( i != 0):\n",
    "            op[i][i] = op[i][i]*(-1)\n",
    "    #display(op)\n",
    "    \n",
    "    return op"
   ]
  },
  {
   "cell_type": "code",
   "execution_count": 5,
   "id": "8d3a4d04-c678-45b7-a2ba-9582355c09aa",
   "metadata": {},
   "outputs": [
    {
     "data": {
      "text/latex": [
       "Expected a vector of length $2^n$ as input!"
      ],
      "text/plain": [
       "<IPython.core.display.Latex object>"
      ]
     },
     "metadata": {},
     "output_type": "display_data"
    },
    {
     "name": "stdout",
     "output_type": "stream",
     "text": [
      "Enter n: 2\n",
      "Enter the vector:\n",
      "1\n",
      "5\n",
      "7\n",
      "10\n",
      "a = [1, 5, 7, 10]\n"
     ]
    }
   ],
   "source": [
    "# Taking vector of integer number as input.\n",
    "display(Latex(r'Expected a vector of length $2^n$ as input!'))\n",
    "\n",
    "n = int(input('Enter n: '))\n",
    "a = []\n",
    "print('Enter the vector:')\n",
    "for i in range(2**n):\n",
    "    a.append(int(input()))\n",
    "\n",
    "print(f'a = {a}')\n"
   ]
  },
  {
   "cell_type": "code",
   "execution_count": 62,
   "id": "3c044c88-e557-4edf-a85b-9ea3880e0867",
   "metadata": {},
   "outputs": [
    {
     "name": "stdout",
     "output_type": "stream",
     "text": [
      "Indices: [1, 3], Numbers: ['0101', '1010']\n"
     ]
    }
   ],
   "source": [
    "#Extracting the indices of the input for which two adjacent bits will always have different values.\n",
    "\n",
    "d = []\n",
    "b_d = [] \n",
    "\n",
    "c = len('{0:b}'.format(max(a))) #number of bits in binary form of highest number in a.\n",
    "\n",
    "def cd(x):        \n",
    "    b = '{0:0{d}b}'.format(x,d=c)\n",
    "    return all(b[i] != b[i+1] for i in range(c-1) )\n",
    "\n",
    "for i in range(len(a)):\n",
    "    if cd(a[i]) is True:\n",
    "        d.append(i)\n",
    "        b_d.append('{0:0{d}b}'.format(a[i],d=c))\n",
    "\n",
    "print(f'Indices: {d}, Numbers: {b_d}')\n"
   ]
  },
  {
   "cell_type": "code",
   "execution_count": 64,
   "id": "c36d7845-6c96-4bbc-b074-0763f101f8cf",
   "metadata": {},
   "outputs": [
    {
     "data": {
      "image/png": "[encoded data removed]",
      "text/plain": [
       "<Figure size 146.797x264.88 with 1 Axes>"
      ]
     },
     "execution_count": 64,
     "metadata": {},
     "output_type": "execute_result"
    }
   ],
   "source": [
    "if (n<3):\n",
    "    if (len(d)>1):\n",
    "        n = 3       #Because this program requires atleast three qubits to deal with more than one targets.\n",
    "    else:\n",
    "        n = n    \n",
    "\n",
    "#Initiating a quantum circuit\n",
    "\n",
    "qc = QuantumCircuit(n,n)\n",
    "qc.h(range(n))\n",
    "\n",
    "qc.draw()"
   ]
  },
  {
   "cell_type": "code",
   "execution_count": 58,
   "id": "f588f245-3102-4d7d-98ae-ad210ff2c887",
   "metadata": {},
   "outputs": [],
   "source": [
    "#To find the number of repetition.\n",
    "theta = asin(1/sqrt(2**n))\n",
    "\n",
    "t = int((pi/(2*theta) - 1)/2)\n"
   ]
  },
  {
   "cell_type": "code",
   "execution_count": 65,
   "id": "6bd7d4a7-7352-4f66-8d32-c4aef38a3acf",
   "metadata": {},
   "outputs": [
    {
     "data": {
      "text/plain": [
       "1"
      ]
     },
     "metadata": {},
     "output_type": "display_data"
    },
    {
     "data": {
      "text/plain": [
       "3"
      ]
     },
     "metadata": {},
     "output_type": "display_data"
    },
    {
     "data": {
      "image/png": "[encoded data removed]",
      "text/plain": [
       "<Figure size 507.997x264.88 with 1 Axes>"
      ]
     },
     "execution_count": 65,
     "metadata": {},
     "output_type": "execute_result"
    }
   ],
   "source": [
    "#Finally applying all the component on the circuit.\n",
    "for i in range(t):\n",
    "    qc.unitary(orc(d), range(n))\n",
    "    qc.h(range(n))\n",
    "    qc.unitary(dif(), range(n))\n",
    "    qc.h(range(n))\n",
    "\n",
    "qc.draw()"
   ]
  },
  {
   "cell_type": "code",
   "execution_count": 66,
   "id": "10f852af-affe-474e-b28a-5142a08e4d78",
   "metadata": {
    "tags": []
   },
   "outputs": [
    {
     "name": "stdout",
     "output_type": "stream",
     "text": [
      "Statevector([-1.28915238e-17+0.j,  7.07106781e-01+0.j, -6.15689186e-18+0.j,\n",
      "              7.07106781e-01+0.j, -3.36731597e-18+0.j,  1.34692639e-17+0.j,\n",
      "              3.36731597e-18+0.j,  1.34692639e-17+0.j],\n",
      "            dims=(2, 2, 2))\n"
     ]
    }
   ],
   "source": [
    "#To print the statevector.\n",
    "s_qc = qi.Statevector.from_instruction(qc)\n",
    "#s_qc.draw('latex', prefix='State = ')\n",
    "\n",
    "print(s_qc)"
   ]
  },
  {
   "cell_type": "code",
   "execution_count": 67,
   "id": "32d00f18-988a-47e6-8356-d47009934a65",
   "metadata": {},
   "outputs": [
    {
     "data": {
      "image/png": "[encoded data removed]",
      "text/plain": [
       "<Figure size 688.597x264.88 with 1 Axes>"
      ]
     },
     "execution_count": 67,
     "metadata": {},
     "output_type": "execute_result"
    }
   ],
   "source": [
    "#Applying the measurements.\n",
    "qc.measure(range(n),range(n))\n",
    "qc.draw()"
   ]
  },
  {
   "cell_type": "code",
   "execution_count": 68,
   "id": "5b53b0ef-00f7-48df-9dd6-2e35c00a15c6",
   "metadata": {},
   "outputs": [
    {
     "name": "stdout",
     "output_type": "stream",
     "text": [
      "circuit depth: 18\n",
      "circuit contains 8 CNOTs\n"
     ]
    }
   ],
   "source": [
    "#Simulating the circuit\n",
    "qasm_sim = Aer.get_backend('aer_simulator')\n",
    "tqc = transpile(qc, basis_gates=['u', 'cx'], optimization_level=3)\n",
    "\n",
    "print(f\"circuit depth: {tqc.depth()}\")\n",
    "print(f\"circuit contains {tqc.count_ops()['cx']} CNOTs\")"
   ]
  },
  {
   "cell_type": "code",
   "execution_count": 69,
   "id": "2e59a071-bef4-4213-9382-fe0e97b0d7a2",
   "metadata": {},
   "outputs": [
    {
     "name": "stdout",
     "output_type": "stream",
     "text": [
      "{'001': 527, '011': 497}\n"
     ]
    },
    {
     "data": {
      "image/png": "[encoded data removed]",
      "text/plain": [
       "<Figure size 504x360 with 1 Axes>"
      ]
     },
     "execution_count": 69,
     "metadata": {},
     "output_type": "execute_result"
    }
   ],
   "source": [
    "#Getting final state probabilities.\n",
    "counts = qasm_sim.run(tqc).result().get_counts()\n",
    "\n",
    "print(counts)\n",
    "plot_histogram(counts)"
   ]
  },
  {
   "cell_type": "markdown",
   "id": "19b503ab-b9c5-4550-83a7-a100650cdd57",
   "metadata": {},
   "source": [
    "### Result\n",
    "From the histogram, we can see that the output state is in the superposition of the indices (1: 001, 3: 011) of the target numbers.\n",
    "\n",
    "\n",
    "\n"
   ]
  }
 ],
 "metadata": {
  "kernelspec": {
   "display_name": "Python 3 (ipykernel)",
   "language": "python",
   "name": "python3"
  },
  "language_info": {
   "codemirror_mode": {
    "name": "ipython",
    "version": 3
   },
   "file_extension": ".py",
   "mimetype": "text/x-python",
   "name": "python",
   "nbconvert_exporter": "python",
   "pygments_lexer": "ipython3",
   "version": "3.9.5"
  },
  "widgets": {
   "application/vnd.jupyter.widget-state+json": {
    "state": {
     "02bde672f66c46f0807b18272302e4d3": {
      "model_module": "@jupyter-widgets/controls",
      "model_module_version": "1.5.0",
      "model_name": "DescriptionStyleModel",
      "state": {
       "description_width": ""
      }
     },
     "0568549495ce42049e9bb134cebdee5b": {
      "model_module": "@jupyter-widgets/controls",
      "model_module_version": "1.5.0",
      "model_name": "HTMLModel",
      "state": {
       "layout": "IPY_MODEL_62ab9f80614b470891e6d576685e7c63",
       "style": "IPY_MODEL_1ffcd14f49fa48b88090d49045b62727",
       "value": "<p style='font-family: IBM Plex Sans, Arial, Helvetica, sans-serif; font-size: 20px; font-weight: medium;'>Circuit Properties</p>"
      }
     },
     "06c5c547d24a428f9dd68c855597b124": {
      "model_module": "@jupyter-widgets/base",
      "model_module_version": "1.2.0",
      "model_name": "LayoutModel",
      "state": {
       "margin": "0px 0px 10px 0px"
      }
     },
     "06f5db3f6c8c41df84caf2c182ea525d": {
      "model_module": "@jupyter-widgets/controls",
      "model_module_version": "1.5.0",
      "model_name": "HTMLModel",
      "state": {
       "layout": "IPY_MODEL_06c5c547d24a428f9dd68c855597b124",
       "style": "IPY_MODEL_c5168809d9b741c39e78d3e1855e8a85",
       "value": "<p style='font-family: IBM Plex Sans, Arial, Helvetica, sans-serif; font-size: 20px; font-weight: medium;'>Circuit Properties</p>"
      }
     },
     "08c3b7d620a04338902609f0b89b97da": {
      "model_module": "@jupyter-widgets/controls",
      "model_module_version": "1.5.0",
      "model_name": "HTMLModel",
      "state": {
       "layout": "IPY_MODEL_d4ece1ac7c69405bb06677fadf48fec5",
       "style": "IPY_MODEL_e340dbceb9bd44969d572a7b93210b54",
       "value": "<h5>Message</h5>"
      }
     },
     "0fe67fc160a54680b80aeb220fa4e466": {
      "model_module": "@jupyter-widgets/controls",
      "model_module_version": "1.5.0",
      "model_name": "HTMLModel",
      "state": {
       "layout": "IPY_MODEL_781a5f72cb4948d4a93cfb91458e1053",
       "style": "IPY_MODEL_aa4cb91550dc40ba9e772c7d97d012d8",
       "value": "<h5>Status</h5>"
      }
     },
     "1053325627524cd0b01e873a109fe98f": {
      "model_module": "@jupyter-widgets/base",
      "model_module_version": "1.2.0",
      "model_name": "LayoutModel",
      "state": {
       "width": "95px"
      }
     },
     "14b3decb7bab49498448b79e205ca553": {
      "model_module": "@jupyter-widgets/base",
      "model_module_version": "1.2.0",
      "model_name": "LayoutModel",
      "state": {
       "width": "95px"
      }
     },
     "1606016bea3f4f6d8b87d55db4cb26ba": {
      "model_module": "@jupyter-widgets/controls",
      "model_module_version": "1.5.0",
      "model_name": "HTMLModel",
      "state": {
       "layout": "IPY_MODEL_4514c83e4b694426bba8cdc19b5457c8",
       "style": "IPY_MODEL_5f746680eaf14281a688cffd67a82047",
       "value": "<h5>Queue</h5>"
      }
     },
     "16e68e343ba14a51a213d389cc61426e": {
      "model_module": "@jupyter-widgets/controls",
      "model_module_version": "1.5.0",
      "model_name": "ButtonModel",
      "state": {
       "button_style": "primary",
       "description": "Clear",
       "layout": "IPY_MODEL_7ba8bfe88f2b42fdb2fd7c0bbefaafef",
       "style": "IPY_MODEL_28dd411c18fc4292a674dbdcd02d5e3e"
      }
     },
     "1ffcd14f49fa48b88090d49045b62727": {
      "model_module": "@jupyter-widgets/controls",
      "model_module_version": "1.5.0",
      "model_name": "DescriptionStyleModel",
      "state": {
       "description_width": ""
      }
     },
     "21ee3c1ecb114649b627be239ae7d4fc": {
      "model_module": "@jupyter-widgets/controls",
      "model_module_version": "1.5.0",
      "model_name": "ButtonModel",
      "state": {
       "button_style": "primary",
       "description": "Clear",
       "layout": "IPY_MODEL_fced183ae51b42ec90665971b344aeff",
       "style": "IPY_MODEL_95e020b2e13247cfa57dce918b35b37b"
      }
     },
     "267b6277b1ef4210ae6ddf6ff4b2d69c": {
      "model_module": "@jupyter-widgets/controls",
      "model_module_version": "1.5.0",
      "model_name": "HTMLModel",
      "state": {
       "layout": "IPY_MODEL_1053325627524cd0b01e873a109fe98f",
       "style": "IPY_MODEL_3f4bfbe359a24a3482659a264383f975",
       "value": "<h5>Status</h5>"
      }
     },
     "28dd411c18fc4292a674dbdcd02d5e3e": {
      "model_module": "@jupyter-widgets/controls",
      "model_module_version": "1.5.0",
      "model_name": "ButtonStyleModel",
      "state": {}
     },
     "2f0a39c9c71f49fe90ccae1a5d5b4e42": {
      "model_module": "@jupyter-widgets/controls",
      "model_module_version": "1.5.0",
      "model_name": "DescriptionStyleModel",
      "state": {
       "description_width": ""
      }
     },
     "39ea5a5841234de4bbd285d8990744ab": {
      "model_module": "@jupyter-widgets/controls",
      "model_module_version": "1.5.0",
      "model_name": "ButtonStyleModel",
      "state": {}
     },
     "3c29224cfd9847e08b1fb63592af3001": {
      "model_module": "@jupyter-widgets/base",
      "model_module_version": "1.2.0",
      "model_name": "LayoutModel",
      "state": {
       "width": "70px"
      }
     },
     "3e3eb778766c4a888e56bc58c6ae2789": {
      "model_module": "@jupyter-widgets/base",
      "model_module_version": "1.2.0",
      "model_name": "LayoutModel",
      "state": {
       "margin": "0px 0px 10px 0px"
      }
     },
     "3f4bfbe359a24a3482659a264383f975": {
      "model_module": "@jupyter-widgets/controls",
      "model_module_version": "1.5.0",
      "model_name": "DescriptionStyleModel",
      "state": {
       "description_width": ""
      }
     },
     "44176c874a1a4341a8668f0dd5bef62b": {
      "model_module": "@jupyter-widgets/controls",
      "model_module_version": "1.5.0",
      "model_name": "HTMLModel",
      "state": {
       "layout": "IPY_MODEL_f9333dc65cd44a8780b67a5197f6f18d",
       "style": "IPY_MODEL_2f0a39c9c71f49fe90ccae1a5d5b4e42",
       "value": "<h5>Job ID</h5>"
      }
     },
     "4514c83e4b694426bba8cdc19b5457c8": {
      "model_module": "@jupyter-widgets/base",
      "model_module_version": "1.2.0",
      "model_name": "LayoutModel",
      "state": {
       "width": "70px"
      }
     },
     "4bbd57df130c4c1eae0e7d69a63aaca5": {
      "model_module": "@jupyter-widgets/controls",
      "model_module_version": "1.5.0",
      "model_name": "DescriptionStyleModel",
      "state": {
       "description_width": ""
      }
     },
     "4f18756b39744935b3efb4204186a3c2": {
      "model_module": "@jupyter-widgets/controls",
      "model_module_version": "1.5.0",
      "model_name": "GridBoxModel",
      "state": {
       "children": [
        "IPY_MODEL_21ee3c1ecb114649b627be239ae7d4fc"
       ],
       "layout": "IPY_MODEL_9aab2f8ea65e4ec4835fdeaead4b8207"
      }
     },
     "4fa9cd770352493fbf3beb7009bec158": {
      "model_module": "@jupyter-widgets/base",
      "model_module_version": "1.2.0",
      "model_name": "LayoutModel",
      "state": {
       "width": "190px"
      }
     },
     "5bb7ae1418c141cea6aaaf05090f33bf": {
      "model_module": "@jupyter-widgets/controls",
      "model_module_version": "1.5.0",
      "model_name": "DescriptionStyleModel",
      "state": {
       "description_width": ""
      }
     },
     "5d18fa0019b2423990363c799d5d326b": {
      "model_module": "@jupyter-widgets/base",
      "model_module_version": "1.2.0",
      "model_name": "LayoutModel",
      "state": {
       "grid_template_areas": "\n                                       \". . . . right \"\n                                        ",
       "grid_template_columns": "20% 20% 20% 20% 20%",
       "width": "100%"
      }
     },
     "5f746680eaf14281a688cffd67a82047": {
      "model_module": "@jupyter-widgets/controls",
      "model_module_version": "1.5.0",
      "model_name": "DescriptionStyleModel",
      "state": {
       "description_width": ""
      }
     },
     "61e1dc1ec0ad4518abfad135fc4e2686": {
      "model_module": "@jupyter-widgets/controls",
      "model_module_version": "1.5.0",
      "model_name": "DescriptionStyleModel",
      "state": {
       "description_width": ""
      }
     },
     "62ab9f80614b470891e6d576685e7c63": {
      "model_module": "@jupyter-widgets/base",
      "model_module_version": "1.2.0",
      "model_name": "LayoutModel",
      "state": {
       "margin": "0px 0px 10px 0px"
      }
     },
     "66168b9b2a1f45cb87e11d162b32ee7a": {
      "model_module": "@jupyter-widgets/controls",
      "model_module_version": "1.5.0",
      "model_name": "DescriptionStyleModel",
      "state": {
       "description_width": ""
      }
     },
     "672b1b0b904d47e49103b6a6e2186acc": {
      "model_module": "@jupyter-widgets/controls",
      "model_module_version": "1.5.0",
      "model_name": "HBoxModel",
      "state": {
       "children": [
        "IPY_MODEL_eb25c8c263314c499c4d747f6ee9e61a",
        "IPY_MODEL_93047c1a2f1f4610915e35998b69624d",
        "IPY_MODEL_0fe67fc160a54680b80aeb220fa4e466",
        "IPY_MODEL_9a40132aa2aa43f1881a75ae7a6fa1ca",
        "IPY_MODEL_e55cc0722b4e4ca48f0f1b83ba9a9ef4"
       ],
       "layout": "IPY_MODEL_f7ffa964c6c3487182d46534d6334190"
      }
     },
     "6b3c29fe753144089e3124fe2e834238": {
      "model_module": "@jupyter-widgets/controls",
      "model_module_version": "1.5.0",
      "model_name": "HTMLModel",
      "state": {
       "layout": "IPY_MODEL_14b3decb7bab49498448b79e205ca553",
       "style": "IPY_MODEL_4bbd57df130c4c1eae0e7d69a63aaca5",
       "value": "<h5>Status</h5>"
      }
     },
     "6bdf75bd1d2e4e8d9ccbd7fcee5c521c": {
      "model_module": "@jupyter-widgets/controls",
      "model_module_version": "1.5.0",
      "model_name": "DescriptionStyleModel",
      "state": {
       "description_width": ""
      }
     },
     "6d11fc19af9f490d9495eeb2ef50b6f7": {
      "model_module": "@jupyter-widgets/controls",
      "model_module_version": "1.5.0",
      "model_name": "HTMLModel",
      "state": {
       "layout": "IPY_MODEL_99eac1eb5bd44a10b192f31e57a3ea70",
       "style": "IPY_MODEL_61e1dc1ec0ad4518abfad135fc4e2686",
       "value": "<h5>Message</h5>"
      }
     },
     "6d272f118d3b45eda61d521fcee35f15": {
      "model_module": "@jupyter-widgets/base",
      "model_module_version": "1.2.0",
      "model_name": "LayoutModel",
      "state": {
       "width": "70px"
      }
     },
     "71056cbd3d7b41839f706a38d017102e": {
      "model_module": "@jupyter-widgets/controls",
      "model_module_version": "1.5.0",
      "model_name": "DescriptionStyleModel",
      "state": {
       "description_width": ""
      }
     },
     "71aaf4d5c13f454aa199a7737df93acf": {
      "model_module": "@jupyter-widgets/controls",
      "model_module_version": "1.5.0",
      "model_name": "HTMLModel",
      "state": {
       "layout": "IPY_MODEL_8c91205045fa4775b4910fcd2e5749d4",
       "style": "IPY_MODEL_5bb7ae1418c141cea6aaaf05090f33bf",
       "value": "<h5>Job ID</h5>"
      }
     },
     "781a5f72cb4948d4a93cfb91458e1053": {
      "model_module": "@jupyter-widgets/base",
      "model_module_version": "1.2.0",
      "model_name": "LayoutModel",
      "state": {
       "width": "95px"
      }
     },
     "7ba8bfe88f2b42fdb2fd7c0bbefaafef": {
      "model_module": "@jupyter-widgets/base",
      "model_module_version": "1.2.0",
      "model_name": "LayoutModel",
      "state": {
       "grid_area": "right",
       "padding": "0px 0px 0px 0px",
       "width": "70px"
      }
     },
     "7daec78b4103493ab05464e8a968977b": {
      "model_module": "@jupyter-widgets/base",
      "model_module_version": "1.2.0",
      "model_name": "LayoutModel",
      "state": {
       "margin": "0px 0px 0px 37px",
       "width": "600px"
      }
     },
     "804f4ae1d91b41f487c4d98d19159bea": {
      "model_module": "@jupyter-widgets/controls",
      "model_module_version": "1.5.0",
      "model_name": "HTMLModel",
      "state": {
       "layout": "IPY_MODEL_6d272f118d3b45eda61d521fcee35f15",
       "style": "IPY_MODEL_6bdf75bd1d2e4e8d9ccbd7fcee5c521c",
       "value": "<h5>Queue</h5>"
      }
     },
     "8388a8ad76b04a87849b53f5c4f459ab": {
      "model_module": "@jupyter-widgets/controls",
      "model_module_version": "1.5.0",
      "model_name": "DescriptionStyleModel",
      "state": {
       "description_width": ""
      }
     },
     "845d2daf8cd0400f9400b90aa784cc5b": {
      "model_module": "@jupyter-widgets/controls",
      "model_module_version": "1.5.0",
      "model_name": "HBoxModel",
      "state": {
       "children": [
        "IPY_MODEL_71aaf4d5c13f454aa199a7737df93acf",
        "IPY_MODEL_e071c4a6ac5247f0b54e89b75e391e95",
        "IPY_MODEL_267b6277b1ef4210ae6ddf6ff4b2d69c",
        "IPY_MODEL_804f4ae1d91b41f487c4d98d19159bea",
        "IPY_MODEL_08c3b7d620a04338902609f0b89b97da"
       ],
       "layout": "IPY_MODEL_934612e015084bbea5199dfca8ad6fed"
      }
     },
     "8c91205045fa4775b4910fcd2e5749d4": {
      "model_module": "@jupyter-widgets/base",
      "model_module_version": "1.2.0",
      "model_name": "LayoutModel",
      "state": {
       "width": "190px"
      }
     },
     "8edca1bfc4b6457198e8fd6fa0b573d8": {
      "model_module": "@jupyter-widgets/base",
      "model_module_version": "1.2.0",
      "model_name": "LayoutModel",
      "state": {
       "grid_template_areas": "\n                                       \". . . . right \"\n                                        ",
       "grid_template_columns": "20% 20% 20% 20% 20%",
       "width": "100%"
      }
     },
     "93047c1a2f1f4610915e35998b69624d": {
      "model_module": "@jupyter-widgets/controls",
      "model_module_version": "1.5.0",
      "model_name": "HTMLModel",
      "state": {
       "layout": "IPY_MODEL_a9fe6d715d53408687007ee1d5601944",
       "style": "IPY_MODEL_02bde672f66c46f0807b18272302e4d3",
       "value": "<h5>Backend</h5>"
      }
     },
     "934612e015084bbea5199dfca8ad6fed": {
      "model_module": "@jupyter-widgets/base",
      "model_module_version": "1.2.0",
      "model_name": "LayoutModel",
      "state": {
       "margin": "0px 0px 0px 37px",
       "width": "600px"
      }
     },
     "9506b73da492422c8115f57c5f0a6380": {
      "model_module": "@jupyter-widgets/controls",
      "model_module_version": "1.5.0",
      "model_name": "ButtonModel",
      "state": {
       "button_style": "primary",
       "description": "Clear",
       "layout": "IPY_MODEL_a71fdeceda2a4545bbb5bf743e0650c7",
       "style": "IPY_MODEL_39ea5a5841234de4bbd285d8990744ab"
      }
     },
     "95e020b2e13247cfa57dce918b35b37b": {
      "model_module": "@jupyter-widgets/controls",
      "model_module_version": "1.5.0",
      "model_name": "ButtonStyleModel",
      "state": {}
     },
     "99eac1eb5bd44a10b192f31e57a3ea70": {
      "model_module": "@jupyter-widgets/base",
      "model_module_version": "1.2.0",
      "model_name": "LayoutModel",
      "state": {}
     },
     "9a40132aa2aa43f1881a75ae7a6fa1ca": {
      "model_module": "@jupyter-widgets/controls",
      "model_module_version": "1.5.0",
      "model_name": "HTMLModel",
      "state": {
       "layout": "IPY_MODEL_3c29224cfd9847e08b1fb63592af3001",
       "style": "IPY_MODEL_71056cbd3d7b41839f706a38d017102e",
       "value": "<h5>Queue</h5>"
      }
     },
     "9aab2f8ea65e4ec4835fdeaead4b8207": {
      "model_module": "@jupyter-widgets/base",
      "model_module_version": "1.2.0",
      "model_name": "LayoutModel",
      "state": {
       "grid_template_areas": "\n                                       \". . . . right \"\n                                        ",
       "grid_template_columns": "20% 20% 20% 20% 20%",
       "width": "100%"
      }
     },
     "a71fdeceda2a4545bbb5bf743e0650c7": {
      "model_module": "@jupyter-widgets/base",
      "model_module_version": "1.2.0",
      "model_name": "LayoutModel",
      "state": {
       "grid_area": "right",
       "padding": "0px 0px 0px 0px",
       "width": "70px"
      }
     },
     "a9fe6d715d53408687007ee1d5601944": {
      "model_module": "@jupyter-widgets/base",
      "model_module_version": "1.2.0",
      "model_name": "LayoutModel",
      "state": {
       "width": "145px"
      }
     },
     "aa4cb91550dc40ba9e772c7d97d012d8": {
      "model_module": "@jupyter-widgets/controls",
      "model_module_version": "1.5.0",
      "model_name": "DescriptionStyleModel",
      "state": {
       "description_width": ""
      }
     },
     "b0a09f2a8eca44749760b66f07df4930": {
      "model_module": "@jupyter-widgets/base",
      "model_module_version": "1.2.0",
      "model_name": "LayoutModel",
      "state": {
       "width": "145px"
      }
     },
     "b64d323ac0e240d98a9d2b77b86311e5": {
      "model_module": "@jupyter-widgets/controls",
      "model_module_version": "1.5.0",
      "model_name": "HTMLModel",
      "state": {
       "layout": "IPY_MODEL_b0a09f2a8eca44749760b66f07df4930",
       "style": "IPY_MODEL_d870533e320746679fd57bd00dddd5f7",
       "value": "<h5>Backend</h5>"
      }
     },
     "b90c14cced394ec59a37b9f55f888af2": {
      "model_module": "@jupyter-widgets/controls",
      "model_module_version": "1.5.0",
      "model_name": "DescriptionStyleModel",
      "state": {
       "description_width": ""
      }
     },
     "bd4a7ed8b889419c96a9eeab2335f6da": {
      "model_module": "@jupyter-widgets/controls",
      "model_module_version": "1.5.0",
      "model_name": "GridBoxModel",
      "state": {
       "children": [
        "IPY_MODEL_16e68e343ba14a51a213d389cc61426e"
       ],
       "layout": "IPY_MODEL_5d18fa0019b2423990363c799d5d326b"
      }
     },
     "c5168809d9b741c39e78d3e1855e8a85": {
      "model_module": "@jupyter-widgets/controls",
      "model_module_version": "1.5.0",
      "model_name": "DescriptionStyleModel",
      "state": {
       "description_width": ""
      }
     },
     "c734830ff06f4de0a77a7a95d297bc55": {
      "model_module": "@jupyter-widgets/controls",
      "model_module_version": "1.5.0",
      "model_name": "HBoxModel",
      "state": {
       "children": [
        "IPY_MODEL_44176c874a1a4341a8668f0dd5bef62b",
        "IPY_MODEL_b64d323ac0e240d98a9d2b77b86311e5",
        "IPY_MODEL_6b3c29fe753144089e3124fe2e834238",
        "IPY_MODEL_1606016bea3f4f6d8b87d55db4cb26ba",
        "IPY_MODEL_6d11fc19af9f490d9495eeb2ef50b6f7"
       ],
       "layout": "IPY_MODEL_7daec78b4103493ab05464e8a968977b"
      }
     },
     "c9754734818c4718b9f0be77c17cad8e": {
      "model_module": "@jupyter-widgets/controls",
      "model_module_version": "1.5.0",
      "model_name": "HTMLModel",
      "state": {
       "layout": "IPY_MODEL_3e3eb778766c4a888e56bc58c6ae2789",
       "style": "IPY_MODEL_dfae1228d2b54cc4b8520bfd76b1160d",
       "value": "<p style='font-family: IBM Plex Sans, Arial, Helvetica, sans-serif; font-size: 20px; font-weight: medium;'>Circuit Properties</p>"
      }
     },
     "d4ece1ac7c69405bb06677fadf48fec5": {
      "model_module": "@jupyter-widgets/base",
      "model_module_version": "1.2.0",
      "model_name": "LayoutModel",
      "state": {}
     },
     "d870533e320746679fd57bd00dddd5f7": {
      "model_module": "@jupyter-widgets/controls",
      "model_module_version": "1.5.0",
      "model_name": "DescriptionStyleModel",
      "state": {
       "description_width": ""
      }
     },
     "dfae1228d2b54cc4b8520bfd76b1160d": {
      "model_module": "@jupyter-widgets/controls",
      "model_module_version": "1.5.0",
      "model_name": "DescriptionStyleModel",
      "state": {
       "description_width": ""
      }
     },
     "e071c4a6ac5247f0b54e89b75e391e95": {
      "model_module": "@jupyter-widgets/controls",
      "model_module_version": "1.5.0",
      "model_name": "HTMLModel",
      "state": {
       "layout": "IPY_MODEL_f626016928874e3199f557320ff4f3ab",
       "style": "IPY_MODEL_b90c14cced394ec59a37b9f55f888af2",
       "value": "<h5>Backend</h5>"
      }
     },
     "e340dbceb9bd44969d572a7b93210b54": {
      "model_module": "@jupyter-widgets/controls",
      "model_module_version": "1.5.0",
      "model_name": "DescriptionStyleModel",
      "state": {
       "description_width": ""
      }
     },
     "e55cc0722b4e4ca48f0f1b83ba9a9ef4": {
      "model_module": "@jupyter-widgets/controls",
      "model_module_version": "1.5.0",
      "model_name": "HTMLModel",
      "state": {
       "layout": "IPY_MODEL_e91a73e5f7014a75bd663a9bb5e2c6e1",
       "style": "IPY_MODEL_66168b9b2a1f45cb87e11d162b32ee7a",
       "value": "<h5>Message</h5>"
      }
     },
     "e91a73e5f7014a75bd663a9bb5e2c6e1": {
      "model_module": "@jupyter-widgets/base",
      "model_module_version": "1.2.0",
      "model_name": "LayoutModel",
      "state": {}
     },
     "eb25c8c263314c499c4d747f6ee9e61a": {
      "model_module": "@jupyter-widgets/controls",
      "model_module_version": "1.5.0",
      "model_name": "HTMLModel",
      "state": {
       "layout": "IPY_MODEL_4fa9cd770352493fbf3beb7009bec158",
       "style": "IPY_MODEL_8388a8ad76b04a87849b53f5c4f459ab",
       "value": "<h5>Job ID</h5>"
      }
     },
     "ed727c191254461398ff2dcec02c3708": {
      "model_module": "@jupyter-widgets/controls",
      "model_module_version": "1.5.0",
      "model_name": "GridBoxModel",
      "state": {
       "children": [
        "IPY_MODEL_9506b73da492422c8115f57c5f0a6380"
       ],
       "layout": "IPY_MODEL_8edca1bfc4b6457198e8fd6fa0b573d8"
      }
     },
     "f626016928874e3199f557320ff4f3ab": {
      "model_module": "@jupyter-widgets/base",
      "model_module_version": "1.2.0",
      "model_name": "LayoutModel",
      "state": {
       "width": "145px"
      }
     },
     "f7ffa964c6c3487182d46534d6334190": {
      "model_module": "@jupyter-widgets/base",
      "model_module_version": "1.2.0",
      "model_name": "LayoutModel",
      "state": {
       "margin": "0px 0px 0px 37px",
       "width": "600px"
      }
     },
     "f9333dc65cd44a8780b67a5197f6f18d": {
      "model_module": "@jupyter-widgets/base",
      "model_module_version": "1.2.0",
      "model_name": "LayoutModel",
      "state": {
       "width": "190px"
      }
     },
     "fced183ae51b42ec90665971b344aeff": {
      "model_module": "@jupyter-widgets/base",
      "model_module_version": "1.2.0",
      "model_name": "LayoutModel",
      "state": {
       "grid_area": "right",
       "padding": "0px 0px 0px 0px",
       "width": "70px"
      }
     }
    },
    "version_major": 2,
    "version_minor": 0
   }
  }
 },
 "nbformat": 4,
 "nbformat_minor": 5
}
