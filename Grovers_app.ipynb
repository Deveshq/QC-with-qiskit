{
 "cells": [
  {
   "cell_type": "markdown",
   "id": "70bc7551-062d-4514-9668-612ce7e5ee73",
   "metadata": {},
   "source": [
    "## Problem\n",
    "\n",
    "Desiging a ciruit that consider a vector of integer numbers as input, and returns a quantum state which is a superposition of the target solution.\n",
    "\n",
    "> Target solution: Indices of the inputs where two adjacent bits (of binary number corresponding to the integers) will always have different values.\n",
    "\n"
   ]
  },
  {
   "cell_type": "markdown",
   "id": "ac71c978",
   "metadata": {},
   "source": [
    "## Solution\n",
    "\n",
    "Here I've used the Grovers algorithm, to find the state in the superposition of required indices. "
   ]
  },
  {
   "cell_type": "code",
   "execution_count": 59,
   "id": "55cd9db9",
   "metadata": {},
   "outputs": [],
   "source": [
    "# Importing some important libraries\n",
    "import numpy as np\n",
    "from numpy import math\n",
    "from qiskit import *\n",
    "from numpy import pi as pi\n",
    "from math import asin, sqrt\n",
    "import qiskit.quantum_info as qi\n",
    "from qiskit import QuantumCircuit, transpile, Aer, IBMQ, execute\n",
    "from qiskit.tools.jupyter import *\n",
    "from qiskit.visualization import plot_histogram, plot_bloch_multivector\n",
    "from numpy.random import seed"
   ]
  },
  {
   "cell_type": "code",
   "execution_count": 1,
   "id": "bd81c688-b1fb-491b-8de6-d41acf810eef",
   "metadata": {},
   "outputs": [],
   "source": [
    "import IPython\n",
    "from IPython.display import display,Latex,Markdown"
   ]
  },
  {
   "cell_type": "code",
   "execution_count": 2,
   "id": "fcf6a914-4c3f-4290-ac5f-0095e4860d50",
   "metadata": {
    "tags": []
   },
   "outputs": [],
   "source": [
    "# Defining a function which flip the sign of the marked state, in the superpositon of all the states.\n",
    "\n",
    "def orc(d):\n",
    "    op = np.identity(2**n)\n",
    "    for i in d:\n",
    "        op[i][i] = op[i][i]*(-1)\n",
    "        display(i)\n",
    "    return op"
   ]
  },
  {
   "cell_type": "code",
   "execution_count": 3,
   "id": "d43831d8-6cc5-4c34-93bf-0740040d6b64",
   "metadata": {},
   "outputs": [],
   "source": [
    "# Defining another function which flip all the states about the average.\n",
    "\n",
    "def dif():\n",
    "    op = np.identity(2**n)\n",
    "    for i in range(2**n):\n",
    "        if ( i != 0):\n",
    "            op[i][i] = op[i][i]*(-1)\n",
    "    #display(op)\n",
    "    \n",
    "    return op"
   ]
  },
  {
   "cell_type": "code",
   "execution_count": 5,
   "id": "8d3a4d04-c678-45b7-a2ba-9582355c09aa",
   "metadata": {},
   "outputs": [
    {
     "data": {
      "text/latex": [
       "Expected a vector of length $2^n$ as input!"
      ],
      "text/plain": [
       "<IPython.core.display.Latex object>"
      ]
     },
     "metadata": {},
     "output_type": "display_data"
    },
    {
     "name": "stdout",
     "output_type": "stream",
     "text": [
      "Enter n: 2\n",
      "Enter the vector:\n",
      "1\n",
      "5\n",
      "7\n",
      "10\n",
      "a = [1, 5, 7, 10]\n"
     ]
    }
   ],
   "source": [
    "# Taking vector of integer number as input.\n",
    "display(Latex(r'Expected a vector of length $2^n$ as input!'))\n",
    "\n",
    "n = int(input('Enter n: '))\n",
    "a = []\n",
    "print('Enter the vector:')\n",
    "for i in range(2**n):\n",
    "    a.append(int(input()))\n",
    "\n",
    "print(f'a = {a}')\n"
   ]
  },
  {
   "cell_type": "code",
   "execution_count": 62,
   "id": "3c044c88-e557-4edf-a85b-9ea3880e0867",
   "metadata": {},
   "outputs": [
    {
     "name": "stdout",
     "output_type": "stream",
     "text": [
      "Indices: [1, 3], Numbers: ['0101', '1010']\n"
     ]
    }
   ],
   "source": [
    "#Extracting the indices of the input for which two adjacent bits will always have different values.\n",
    "\n",
    "d = []\n",
    "b_d = [] \n",
    "\n",
    "c = len('{0:b}'.format(max(a))) #number of bits in binary form of highest number in a.\n",
    "\n",
    "def cd(x):        \n",
    "    b = '{0:0{d}b}'.format(x,d=c)\n",
    "    return all(b[i] != b[i+1] for i in range(c-1) )\n",
    "\n",
    "for i in range(len(a)):\n",
    "    if cd(a[i]) is True:\n",
    "        d.append(i)\n",
    "        b_d.append('{0:0{d}b}'.format(a[i],d=c))\n",
    "\n",
    "print(f'Indices: {d}, Numbers: {b_d}')\n"
   ]
  },
  {
   "cell_type": "code",
   "execution_count": 64,
   "id": "c36d7845-6c96-4bbc-b074-0763f101f8cf",
   "metadata": {},
   "outputs": [
    {
     "data": {
      "image/png": "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\n",
      "text/plain": [
       "<Figure size 146.797x264.88 with 1 Axes>"
      ]
     },
     "execution_count": 64,
     "metadata": {},
     "output_type": "execute_result"
    }
   ],
   "source": [
    "if (n<3):\n",
    "    if (len(d)>1):\n",
    "        n = 3       #Because this program requires atleast three qubits to deal with more than one targets.\n",
    "    else:\n",
    "        n = n    \n",
    "\n",
    "#Initiating a quantum circuit\n",
    "\n",
    "qc = QuantumCircuit(n,n)\n",
    "qc.h(range(n))\n",
    "\n",
    "qc.draw()"
   ]
  },
  {
   "cell_type": "code",
   "execution_count": 58,
   "id": "f588f245-3102-4d7d-98ae-ad210ff2c887",
   "metadata": {},
   "outputs": [],
   "source": [
    "#To find the number of repetition.\n",
    "theta = asin(1/sqrt(2**n))\n",
    "\n",
    "t = int((pi/(2*theta) - 1)/2)\n"
   ]
  },
  {
   "cell_type": "code",
   "execution_count": 65,
   "id": "6bd7d4a7-7352-4f66-8d32-c4aef38a3acf",
   "metadata": {},
   "outputs": [
    {
     "data": {
      "text/plain": [
       "1"
      ]
     },
     "metadata": {},
     "output_type": "display_data"
    },
    {
     "data": {
      "text/plain": [
       "3"
      ]
     },
     "metadata": {},
     "output_type": "display_data"
    },
    {
     "data": {
      "image/png": "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\n",
      "text/plain": [
       "<Figure size 507.997x264.88 with 1 Axes>"
      ]
     },
     "execution_count": 65,
     "metadata": {},
     "output_type": "execute_result"
    }
   ],
   "source": [
    "#Finally applying all the component on the circuit.\n",
    "for i in range(t):\n",
    "    qc.unitary(orc(d), range(n))\n",
    "    qc.h(range(n))\n",
    "    qc.unitary(dif(), range(n))\n",
    "    qc.h(range(n))\n",
    "\n",
    "qc.draw()"
   ]
  },
  {
   "cell_type": "code",
   "execution_count": 66,
   "id": "10f852af-affe-474e-b28a-5142a08e4d78",
   "metadata": {
    "tags": []
   },
   "outputs": [
    {
     "name": "stdout",
     "output_type": "stream",
     "text": [
      "Statevector([-1.28915238e-17+0.j,  7.07106781e-01+0.j, -6.15689186e-18+0.j,\n",
      "              7.07106781e-01+0.j, -3.36731597e-18+0.j,  1.34692639e-17+0.j,\n",
      "              3.36731597e-18+0.j,  1.34692639e-17+0.j],\n",
      "            dims=(2, 2, 2))\n"
     ]
    }
   ],
   "source": [
    "#To print the statevector.\n",
    "s_qc = qi.Statevector.from_instruction(qc)\n",
    "#s_qc.draw('latex', prefix='State = ')\n",
    "\n",
    "print(s_qc)"
   ]
  },
  {
   "cell_type": "code",
   "execution_count": 67,
   "id": "32d00f18-988a-47e6-8356-d47009934a65",
   "metadata": {},
   "outputs": [
    {
     "data": {
      "image/png": "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\n",
      "text/plain": [
       "<Figure size 688.597x264.88 with 1 Axes>"
      ]
     },
     "execution_count": 67,
     "metadata": {},
     "output_type": "execute_result"
    }
   ],
   "source": [
    "#Applying the measurements.\n",
    "qc.measure(range(n),range(n))\n",
    "qc.draw()"
   ]
  },
  {
   "cell_type": "code",
   "execution_count": 68,
   "id": "5b53b0ef-00f7-48df-9dd6-2e35c00a15c6",
   "metadata": {},
   "outputs": [
    {
     "name": "stdout",
     "output_type": "stream",
     "text": [
      "circuit depth: 18\n",
      "circuit contains 8 CNOTs\n"
     ]
    }
   ],
   "source": [
    "#Simulating the circuit\n",
    "qasm_sim = Aer.get_backend('aer_simulator')\n",
    "tqc = transpile(qc, basis_gates=['u', 'cx'], optimization_level=3)\n",
    "\n",
    "print(f\"circuit depth: {tqc.depth()}\")\n",
    "print(f\"circuit contains {tqc.count_ops()['cx']} CNOTs\")"
   ]
  },
  {
   "cell_type": "code",
   "execution_count": 69,
   "id": "2e59a071-bef4-4213-9382-fe0e97b0d7a2",
   "metadata": {},
   "outputs": [
    {
     "name": "stdout",
     "output_type": "stream",
     "text": [
      "{'001': 527, '011': 497}\n"
     ]
    },
    {
     "data": {
      "image/png": "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
